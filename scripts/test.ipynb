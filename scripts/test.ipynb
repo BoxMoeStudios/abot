{
 "cells": [
  {
   "cell_type": "code",
   "execution_count": 11,
   "metadata": {},
   "outputs": [],
   "source": [
    "class Chess:\n",
    "    def __init__(self):\n",
    "        self.players = []\n",
    "        self.grid = [[2 for _ in range(3)] for _ in range(3)]\n",
    "        self.chars = ('X', 'O')\n",
    "        self.steps = 0\n",
    "\n",
    "    def set(self, x: int, y: int):\n",
    "        self.grid[x][y] = self.next()\n",
    "\n",
    "    def next(self) -> int:\n",
    "        self.steps += 1\n",
    "        return self.turn()\n",
    "\n",
    "    def turn(self) -> int:\n",
    "        return self.steps%2\n",
    "\n",
    "    def check(self) -> int:\n",
    "        m = self.grid\n",
    "        # check rows\n",
    "        for row in m:\n",
    "            s = sum(row)\n",
    "            if s == -3 or s == 3:\n",
    "                return s\n",
    "\n",
    "        # check colums\n",
    "        for i in range(3):\n",
    "            s = m[0][i] + m[1][i] + m[2][i]\n",
    "            if s == -3 or s == 3:\n",
    "                return s\n",
    "\n",
    "        # check crosses\n",
    "        s = m[0][0] + m[1][1] + m[2][2]\n",
    "        if s == -3 or s == 3:\n",
    "            return s\n",
    "        s = m[0][2] + m[1][1] + m[2][0]\n",
    "        if s == -3 or s == 3:\n",
    "            return s\n",
    "\n",
    "        return 9 if self.steps >= 9 else -9\n",
    "        \n",
    "    def __str__(self):\n",
    "        s = '  A B C\\n'\n",
    "        for i, row in enumerate(self.grid):\n",
    "            s += f'{i+1} '\n",
    "            s += ' '.join(self.chars[j] for j in row)\n",
    "            s += '\\n'\n",
    "        return s\n",
    "\n"
   ]
  },
  {
   "cell_type": "code",
   "execution_count": 12,
   "metadata": {},
   "outputs": [
    {
     "name": "stdout",
     "output_type": "stream",
     "text": [
      "  A B C\n",
      "1      \n",
      "2   O  \n",
      "3      \n",
      "\n"
     ]
    }
   ],
   "source": [
    "from typing import Tuple\n",
    "\n",
    "c = Chess()\n",
    "print(c)\n",
    "\n",
    "\n",
    "\n",
    "def input_pos(s: str) -> Tuple[int, int]:\n",
    "    move = input(s)\n",
    "    pos = move.split(' ')\n",
    "    return int(pos[0]), int(pos[1])\n",
    "\n",
    "s = 0\n",
    "while s in (-3, 3, 9):\n",
    "\n",
    "    x, y = input_pos('> ')\n",
    "    c.set(x, y)\n",
    "    s = c.check()\n",
    "\n",
    "    print(c)\n",
    "\n",
    "print(s)\n"
   ]
  },
  {
   "cell_type": "code",
   "execution_count": 13,
   "metadata": {},
   "outputs": [
    {
     "data": {
      "text/plain": [
       "'O'"
      ]
     },
     "execution_count": 13,
     "metadata": {},
     "output_type": "execute_result"
    }
   ],
   "source": [
    "'''\n",
    "    A   B\n",
    "  +---+---+\n",
    "1 | X | O |\n",
    "  +---+---+\n",
    "2 |   |   |\n",
    "'''\n",
    "s = ('X', 'O')\n",
    "s[-1]"
   ]
  }
 ],
 "metadata": {
  "interpreter": {
   "hash": "aee8b7b246df8f9039afb4144a1f6fd8d2ca17a180786b69acc140d282b71a49"
  },
  "kernelspec": {
   "display_name": "Python 3.9.7 64-bit",
   "language": "python",
   "name": "python3"
  },
  "language_info": {
   "codemirror_mode": {
    "name": "ipython",
    "version": 3
   },
   "file_extension": ".py",
   "mimetype": "text/x-python",
   "name": "python",
   "nbconvert_exporter": "python",
   "pygments_lexer": "ipython3",
   "version": "3.9.7"
  },
  "orig_nbformat": 4
 },
 "nbformat": 4,
 "nbformat_minor": 2
}
